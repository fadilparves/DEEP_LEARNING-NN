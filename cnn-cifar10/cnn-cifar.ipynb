{
 "cells": [
  {
   "cell_type": "code",
   "execution_count": 15,
   "metadata": {},
   "outputs": [
    {
     "name": "stdout",
     "output_type": "stream",
     "text": [
      "2.1.0\n"
     ]
    }
   ],
   "source": [
    "import tensorflow as tf\n",
    "print(tf.__version__)"
   ]
  },
  {
   "cell_type": "code",
   "execution_count": 16,
   "metadata": {},
   "outputs": [],
   "source": [
    "import numpy as np\n",
    "import matplotlib.pyplot as plt\n",
    "from tensorflow.keras.layers import Input, Conv2D, Dense, Flatten, Dropout, GlobalMaxPooling2D, MaxPooling2D, BatchNormalization\n",
    "from tensorflow.keras.models import Model"
   ]
  },
  {
   "cell_type": "code",
   "execution_count": 17,
   "metadata": {},
   "outputs": [
    {
     "name": "stdout",
     "output_type": "stream",
     "text": [
      "(50000, 32, 32, 3)\n"
     ]
    }
   ],
   "source": [
    "cifar10 = tf.keras.datasets.cifar10\n",
    "(x_train, y_train), (x_test, y_test) = cifar10.load_data()\n",
    "x_train, x_test = x_train / 255.0, x_test / 255.0\n",
    "y_train, y_test = y_train.flatten(), y_test.flatten()\n",
    "print(x_train.shape)"
   ]
  },
  {
   "cell_type": "code",
   "execution_count": 18,
   "metadata": {},
   "outputs": [
    {
     "name": "stdout",
     "output_type": "stream",
     "text": [
      "number of classes: 10\n"
     ]
    }
   ],
   "source": [
    "K = len(set(y_train))\n",
    "print(\"number of classes:\", K)"
   ]
  },
  {
   "cell_type": "code",
   "execution_count": 19,
   "metadata": {},
   "outputs": [],
   "source": [
    "i = Input(shape=x_train[0].shape)\n",
    "# x = Conv2D(32, (3,3), strides=2, activation='relu')(i)\n",
    "# x = Conv2D(64, (3,3), strides=2, activation='relu')(i)\n",
    "# x = Conv2D(128, (3,3), strides=2, activation='relu')(i)\n",
    "x = Conv2D(32, (3,3), activation='relu', padding='same')(i)\n",
    "x = BatchNormalization()(x)\n",
    "x = Conv2D(32, (3,3), activation='relu', padding='same')(x)\n",
    "x = BatchNormalization()(x)\n",
    "x = MaxPooling2D((2,2))(x)\n",
    "x = Conv2D(64, (3,3), activation='relu', padding='same')(x)\n",
    "x = BatchNormalization()(x)\n",
    "x = Conv2D(64, (3,3), activation='relu', padding='same')(x)\n",
    "x = BatchNormalization()(x)\n",
    "x = MaxPooling2D((2,2))(x)\n",
    "x = Conv2D(128, (3,3), activation='relu', padding='same')(x)\n",
    "x = BatchNormalization()(x)\n",
    "x = Conv2D(128, (3,3), activation='relu', padding='same')(x)\n",
    "x = BatchNormalization()(x)\n",
    "x = MaxPooling2D((2,2))(x)\n",
    "x = Flatten()(x)\n",
    "x = Dropout(0.2)(x)\n",
    "x = Dense(1024, activation='relu')(x)\n",
    "x = Dropout(0.2)(x)\n",
    "x = Dense(K, activation='softmax')(x)\n",
    "\n",
    "model = Model(i,x)"
   ]
  },
  {
   "cell_type": "code",
   "execution_count": 21,
   "metadata": {},
   "outputs": [
    {
     "name": "stdout",
     "output_type": "stream",
     "text": [
      "Train on 50000 samples, validate on 10000 samples\n",
      "Epoch 1/50\n",
      "50000/50000 [==============================] - 33s 668us/sample - loss: 0.4222 - accuracy: 0.8564 - val_loss: 0.5714 - val_accuracy: 0.8179\n",
      "Epoch 2/50\n",
      "50000/50000 [==============================] - 28s 563us/sample - loss: 0.3524 - accuracy: 0.8789 - val_loss: 0.6713 - val_accuracy: 0.7909\n",
      "Epoch 3/50\n",
      "50000/50000 [==============================] - 28s 557us/sample - loss: 0.2948 - accuracy: 0.8979 - val_loss: 0.6151 - val_accuracy: 0.8182\n",
      "Epoch 4/50\n",
      "50000/50000 [==============================] - 27s 548us/sample - loss: 0.2488 - accuracy: 0.9140 - val_loss: 0.6987 - val_accuracy: 0.8104\n",
      "Epoch 5/50\n",
      "50000/50000 [==============================] - 27s 547us/sample - loss: 0.2284 - accuracy: 0.9211 - val_loss: 0.6496 - val_accuracy: 0.8171\n",
      "Epoch 6/50\n",
      "50000/50000 [==============================] - 29s 571us/sample - loss: 0.1873 - accuracy: 0.9360 - val_loss: 0.6779 - val_accuracy: 0.8173\n",
      "Epoch 7/50\n",
      "50000/50000 [==============================] - 27s 542us/sample - loss: 0.1747 - accuracy: 0.9405 - val_loss: 0.7245 - val_accuracy: 0.8116\n",
      "Epoch 8/50\n",
      "50000/50000 [==============================] - 29s 572us/sample - loss: 0.1522 - accuracy: 0.9475 - val_loss: 0.6996 - val_accuracy: 0.8204\n",
      "Epoch 9/50\n",
      "50000/50000 [==============================] - 29s 589us/sample - loss: 0.1421 - accuracy: 0.9512 - val_loss: 0.7653 - val_accuracy: 0.8278\n",
      "Epoch 10/50\n",
      "50000/50000 [==============================] - 27s 546us/sample - loss: 0.1303 - accuracy: 0.9562 - val_loss: 0.7012 - val_accuracy: 0.8332\n",
      "Epoch 11/50\n",
      "50000/50000 [==============================] - 31s 626us/sample - loss: 0.1200 - accuracy: 0.9602 - val_loss: 0.7334 - val_accuracy: 0.8364\n",
      "Epoch 12/50\n",
      "50000/50000 [==============================] - 29s 571us/sample - loss: 0.1179 - accuracy: 0.9614 - val_loss: 0.7456 - val_accuracy: 0.8336\n",
      "Epoch 13/50\n",
      "50000/50000 [==============================] - 32s 648us/sample - loss: 0.1045 - accuracy: 0.9645 - val_loss: 0.8119 - val_accuracy: 0.8278\n",
      "Epoch 14/50\n",
      "50000/50000 [==============================] - 29s 589us/sample - loss: 0.0985 - accuracy: 0.9668 - val_loss: 0.7326 - val_accuracy: 0.8250\n",
      "Epoch 15/50\n",
      "50000/50000 [==============================] - 40s 805us/sample - loss: 0.0942 - accuracy: 0.9688 - val_loss: 0.7521 - val_accuracy: 0.8383\n",
      "Epoch 16/50\n",
      "50000/50000 [==============================] - 24s 486us/sample - loss: 0.0919 - accuracy: 0.9702 - val_loss: 0.7312 - val_accuracy: 0.8279\n",
      "Epoch 17/50\n",
      "50000/50000 [==============================] - 24s 480us/sample - loss: 0.0889 - accuracy: 0.9706 - val_loss: 0.7974 - val_accuracy: 0.8287\n",
      "Epoch 18/50\n",
      "50000/50000 [==============================] - 29s 586us/sample - loss: 0.0773 - accuracy: 0.9738 - val_loss: 0.7696 - val_accuracy: 0.8286\n",
      "Epoch 19/50\n",
      "50000/50000 [==============================] - 29s 580us/sample - loss: 0.0828 - accuracy: 0.9731 - val_loss: 0.7784 - val_accuracy: 0.8338\n",
      "Epoch 20/50\n",
      "50000/50000 [==============================] - 29s 574us/sample - loss: 0.0762 - accuracy: 0.9754 - val_loss: 0.8256 - val_accuracy: 0.8291\n",
      "Epoch 21/50\n",
      "50000/50000 [==============================] - 36s 713us/sample - loss: 0.0715 - accuracy: 0.9756 - val_loss: 0.7140 - val_accuracy: 0.8369\n",
      "Epoch 22/50\n",
      "50000/50000 [==============================] - 33s 651us/sample - loss: 0.0692 - accuracy: 0.9765 - val_loss: 0.7974 - val_accuracy: 0.8404\n",
      "Epoch 23/50\n",
      "50000/50000 [==============================] - 32s 643us/sample - loss: 0.0667 - accuracy: 0.9775 - val_loss: 0.8138 - val_accuracy: 0.8317\n",
      "Epoch 24/50\n",
      "50000/50000 [==============================] - 28s 565us/sample - loss: 0.0664 - accuracy: 0.9781 - val_loss: 0.9119 - val_accuracy: 0.8269\n",
      "Epoch 25/50\n",
      "50000/50000 [==============================] - 28s 558us/sample - loss: 0.0600 - accuracy: 0.9804 - val_loss: 0.8145 - val_accuracy: 0.8316\n",
      "Epoch 26/50\n",
      "50000/50000 [==============================] - 31s 623us/sample - loss: 0.0606 - accuracy: 0.9810 - val_loss: 0.8049 - val_accuracy: 0.8383\n",
      "Epoch 27/50\n",
      "50000/50000 [==============================] - 35s 692us/sample - loss: 0.0605 - accuracy: 0.9800 - val_loss: 0.8240 - val_accuracy: 0.8401\n",
      "Epoch 28/50\n",
      "50000/50000 [==============================] - 32s 632us/sample - loss: 0.0573 - accuracy: 0.9814 - val_loss: 0.9348 - val_accuracy: 0.8372\n",
      "Epoch 29/50\n",
      "50000/50000 [==============================] - 31s 613us/sample - loss: 0.0535 - accuracy: 0.9826 - val_loss: 0.7870 - val_accuracy: 0.8389\n",
      "Epoch 30/50\n",
      "50000/50000 [==============================] - 31s 619us/sample - loss: 0.0526 - accuracy: 0.9821 - val_loss: 0.8270 - val_accuracy: 0.8369\n",
      "Epoch 31/50\n",
      "50000/50000 [==============================] - 34s 684us/sample - loss: 0.0550 - accuracy: 0.9818 - val_loss: 0.6960 - val_accuracy: 0.8407\n",
      "Epoch 32/50\n",
      "50000/50000 [==============================] - 32s 647us/sample - loss: 0.0494 - accuracy: 0.9835 - val_loss: 0.8165 - val_accuracy: 0.8451\n",
      "Epoch 33/50\n",
      "50000/50000 [==============================] - 31s 622us/sample - loss: 0.0494 - accuracy: 0.9846 - val_loss: 0.8404 - val_accuracy: 0.8382\n",
      "Epoch 34/50\n",
      "50000/50000 [==============================] - 30s 597us/sample - loss: 0.0510 - accuracy: 0.9835 - val_loss: 0.8332 - val_accuracy: 0.8280\n",
      "Epoch 35/50\n",
      "50000/50000 [==============================] - 29s 585us/sample - loss: 0.0487 - accuracy: 0.9844 - val_loss: 0.8244 - val_accuracy: 0.8408\n",
      "Epoch 36/50\n",
      "50000/50000 [==============================] - 35s 702us/sample - loss: 0.0485 - accuracy: 0.9845 - val_loss: 0.8904 - val_accuracy: 0.8363\n",
      "Epoch 37/50\n",
      "50000/50000 [==============================] - 30s 600us/sample - loss: 0.0496 - accuracy: 0.9843 - val_loss: 0.7249 - val_accuracy: 0.8458\n",
      "Epoch 38/50\n",
      "50000/50000 [==============================] - 32s 634us/sample - loss: 0.0464 - accuracy: 0.9848 - val_loss: 0.8612 - val_accuracy: 0.8384\n",
      "Epoch 39/50\n",
      "50000/50000 [==============================] - 30s 609us/sample - loss: 0.0444 - accuracy: 0.9863 - val_loss: 0.8594 - val_accuracy: 0.8357\n",
      "Epoch 40/50\n",
      "50000/50000 [==============================] - 32s 650us/sample - loss: 0.0461 - accuracy: 0.9853 - val_loss: 0.7875 - val_accuracy: 0.8491\n",
      "Epoch 41/50\n",
      "50000/50000 [==============================] - 30s 596us/sample - loss: 0.0436 - accuracy: 0.9862 - val_loss: 0.8350 - val_accuracy: 0.8432\n",
      "Epoch 42/50\n",
      "50000/50000 [==============================] - 31s 610us/sample - loss: 0.0436 - accuracy: 0.9866 - val_loss: 0.7484 - val_accuracy: 0.8429\n",
      "Epoch 43/50\n",
      "50000/50000 [==============================] - 30s 591us/sample - loss: 0.0429 - accuracy: 0.9864 - val_loss: 0.8680 - val_accuracy: 0.8476\n",
      "Epoch 44/50\n",
      "50000/50000 [==============================] - 30s 600us/sample - loss: 0.0419 - accuracy: 0.9871 - val_loss: 0.8302 - val_accuracy: 0.8414\n",
      "Epoch 45/50\n",
      "50000/50000 [==============================] - 32s 642us/sample - loss: 0.0385 - accuracy: 0.9877 - val_loss: 0.8818 - val_accuracy: 0.8473\n",
      "Epoch 46/50\n",
      "50000/50000 [==============================] - 31s 611us/sample - loss: 0.0396 - accuracy: 0.9871 - val_loss: 0.8556 - val_accuracy: 0.8437\n",
      "Epoch 47/50\n",
      "50000/50000 [==============================] - 31s 613us/sample - loss: 0.0392 - accuracy: 0.9879 - val_loss: 0.8349 - val_accuracy: 0.8453\n",
      "Epoch 48/50\n",
      "50000/50000 [==============================] - 31s 626us/sample - loss: 0.0412 - accuracy: 0.9868 - val_loss: 0.7919 - val_accuracy: 0.8448\n",
      "Epoch 49/50\n",
      "50000/50000 [==============================] - 33s 660us/sample - loss: 0.0398 - accuracy: 0.9880 - val_loss: 0.8959 - val_accuracy: 0.8317\n",
      "Epoch 50/50\n",
      "50000/50000 [==============================] - 33s 667us/sample - loss: 0.0368 - accuracy: 0.9886 - val_loss: 0.8707 - val_accuracy: 0.8476\n"
     ]
    }
   ],
   "source": [
    "model.compile(optimizer='adam', loss='sparse_categorical_crossentropy', metrics=['accuracy'])\n",
    "r = model.fit(x_train, y_train, validation_data=(x_test, y_test), epochs=50)"
   ]
  },
  {
   "cell_type": "code",
   "execution_count": 24,
   "metadata": {},
   "outputs": [
    {
     "name": "stdout",
     "output_type": "stream",
     "text": [
      "WARNING:tensorflow:From <ipython-input-24-d19ef1fa165b>:5: Model.fit_generator (from tensorflow.python.keras.engine.training) is deprecated and will be removed in a future version.\n",
      "Instructions for updating:\n",
      "Please use Model.fit, which supports generators.\n",
      "WARNING:tensorflow:sample_weight modes were coerced from\n",
      "  ...\n",
      "    to  \n",
      "  ['...']\n",
      "Train for 1562 steps, validate on 10000 samples\n",
      "Epoch 1/50\n",
      "1562/1562 [==============================] - 64s 41ms/step - loss: 0.5415 - accuracy: 0.8282 - val_loss: 0.5584 - val_accuracy: 0.8293\n",
      "Epoch 2/50\n",
      "1562/1562 [==============================] - 67s 43ms/step - loss: 0.4273 - accuracy: 0.8606 - val_loss: 0.4826 - val_accuracy: 0.8453\n",
      "Epoch 3/50\n",
      "1562/1562 [==============================] - 67s 43ms/step - loss: 0.4029 - accuracy: 0.8675 - val_loss: 0.4613 - val_accuracy: 0.8541\n",
      "Epoch 4/50\n",
      "1562/1562 [==============================] - 69s 44ms/step - loss: 0.3751 - accuracy: 0.8764 - val_loss: 0.4677 - val_accuracy: 0.8527\n",
      "Epoch 5/50\n",
      "1562/1562 [==============================] - 69s 44ms/step - loss: 0.3585 - accuracy: 0.8798 - val_loss: 0.4613 - val_accuracy: 0.8500\n",
      "Epoch 6/50\n",
      "1562/1562 [==============================] - 76s 48ms/step - loss: 0.3460 - accuracy: 0.8852 - val_loss: 0.4397 - val_accuracy: 0.8602\n",
      "Epoch 7/50\n",
      "1562/1562 [==============================] - 74s 47ms/step - loss: 0.3246 - accuracy: 0.8913 - val_loss: 0.4619 - val_accuracy: 0.8554\n",
      "Epoch 8/50\n",
      "1562/1562 [==============================] - 72s 46ms/step - loss: 0.3185 - accuracy: 0.8929 - val_loss: 0.4527 - val_accuracy: 0.8611\n",
      "Epoch 9/50\n",
      "1562/1562 [==============================] - 72s 46ms/step - loss: 0.3039 - accuracy: 0.8971 - val_loss: 0.4345 - val_accuracy: 0.8585\n",
      "Epoch 10/50\n",
      "1562/1562 [==============================] - 75s 48ms/step - loss: 0.2934 - accuracy: 0.9025 - val_loss: 0.4331 - val_accuracy: 0.8653\n",
      "Epoch 11/50\n",
      "1562/1562 [==============================] - 67s 43ms/step - loss: 0.2894 - accuracy: 0.9024 - val_loss: 0.4010 - val_accuracy: 0.8748\n",
      "Epoch 12/50\n",
      "1562/1562 [==============================] - 71s 45ms/step - loss: 0.2836 - accuracy: 0.9055 - val_loss: 0.4352 - val_accuracy: 0.8619\n",
      "Epoch 13/50\n",
      "1562/1562 [==============================] - 72s 46ms/step - loss: 0.2734 - accuracy: 0.9087 - val_loss: 0.4423 - val_accuracy: 0.8643\n",
      "Epoch 14/50\n",
      "1562/1562 [==============================] - 74s 48ms/step - loss: 0.2646 - accuracy: 0.9112 - val_loss: 0.4560 - val_accuracy: 0.8564\n",
      "Epoch 15/50\n",
      "1562/1562 [==============================] - 68s 43ms/step - loss: 0.2577 - accuracy: 0.9126 - val_loss: 0.4299 - val_accuracy: 0.8636\n",
      "Epoch 16/50\n",
      "1562/1562 [==============================] - 67s 43ms/step - loss: 0.2523 - accuracy: 0.9151 - val_loss: 0.4155 - val_accuracy: 0.8692\n",
      "Epoch 17/50\n",
      "1562/1562 [==============================] - 70s 45ms/step - loss: 0.2482 - accuracy: 0.9162 - val_loss: 0.4096 - val_accuracy: 0.8756\n",
      "Epoch 18/50\n",
      "1562/1562 [==============================] - 67s 43ms/step - loss: 0.2389 - accuracy: 0.9205 - val_loss: 0.4645 - val_accuracy: 0.8625\n",
      "Epoch 19/50\n",
      "1562/1562 [==============================] - 67s 43ms/step - loss: 0.2345 - accuracy: 0.9203 - val_loss: 0.4241 - val_accuracy: 0.8667\n",
      "Epoch 20/50\n",
      "1562/1562 [==============================] - 67s 43ms/step - loss: 0.2267 - accuracy: 0.9225 - val_loss: 0.4376 - val_accuracy: 0.8714\n",
      "Epoch 21/50\n",
      "1562/1562 [==============================] - 69s 44ms/step - loss: 0.2284 - accuracy: 0.9218 - val_loss: 0.4175 - val_accuracy: 0.8759\n",
      "Epoch 22/50\n",
      "1562/1562 [==============================] - 67s 43ms/step - loss: 0.2210 - accuracy: 0.9246 - val_loss: 0.4360 - val_accuracy: 0.8722\n",
      "Epoch 23/50\n",
      "1562/1562 [==============================] - 69s 44ms/step - loss: 0.2160 - accuracy: 0.9258 - val_loss: 0.4486 - val_accuracy: 0.8640\n",
      "Epoch 24/50\n",
      "1562/1562 [==============================] - 68s 43ms/step - loss: 0.2099 - accuracy: 0.9282 - val_loss: 0.4247 - val_accuracy: 0.8673\n",
      "Epoch 25/50\n",
      "1562/1562 [==============================] - 69s 44ms/step - loss: 0.2123 - accuracy: 0.9279 - val_loss: 0.4435 - val_accuracy: 0.8775\n",
      "Epoch 26/50\n",
      "1562/1562 [==============================] - 73s 47ms/step - loss: 0.2053 - accuracy: 0.9301 - val_loss: 0.4384 - val_accuracy: 0.8796\n",
      "Epoch 27/50\n",
      "1562/1562 [==============================] - 70s 45ms/step - loss: 0.2026 - accuracy: 0.9312 - val_loss: 0.4310 - val_accuracy: 0.8688\n",
      "Epoch 28/50\n",
      "1562/1562 [==============================] - 74s 48ms/step - loss: 0.1965 - accuracy: 0.9332 - val_loss: 0.4439 - val_accuracy: 0.8680\n",
      "Epoch 29/50\n",
      "1562/1562 [==============================] - 69s 44ms/step - loss: 0.1975 - accuracy: 0.9334 - val_loss: 0.4336 - val_accuracy: 0.8762\n",
      "Epoch 30/50\n",
      "1562/1562 [==============================] - 81s 52ms/step - loss: 0.1921 - accuracy: 0.9336 - val_loss: 0.4115 - val_accuracy: 0.8852\n",
      "Epoch 31/50\n",
      "1562/1562 [==============================] - 79s 51ms/step - loss: 0.1870 - accuracy: 0.9371 - val_loss: 0.4486 - val_accuracy: 0.8666\n",
      "Epoch 32/50\n",
      "1562/1562 [==============================] - 73s 47ms/step - loss: 0.1913 - accuracy: 0.9351 - val_loss: 0.4290 - val_accuracy: 0.8719\n",
      "Epoch 33/50\n",
      "1562/1562 [==============================] - 70s 45ms/step - loss: 0.1828 - accuracy: 0.9381 - val_loss: 0.4250 - val_accuracy: 0.8822\n",
      "Epoch 34/50\n",
      "1562/1562 [==============================] - 71s 45ms/step - loss: 0.1803 - accuracy: 0.9392 - val_loss: 0.4257 - val_accuracy: 0.8720\n",
      "Epoch 35/50\n",
      "1562/1562 [==============================] - 74s 48ms/step - loss: 0.1795 - accuracy: 0.9392 - val_loss: 0.3999 - val_accuracy: 0.8793\n",
      "Epoch 36/50\n",
      "1562/1562 [==============================] - 69s 44ms/step - loss: 0.1839 - accuracy: 0.9378 - val_loss: 0.4598 - val_accuracy: 0.8719\n",
      "Epoch 37/50\n",
      "1562/1562 [==============================] - 70s 45ms/step - loss: 0.1717 - accuracy: 0.9412 - val_loss: 0.4252 - val_accuracy: 0.8843\n",
      "Epoch 38/50\n",
      "1562/1562 [==============================] - 56s 36ms/step - loss: 0.1710 - accuracy: 0.9417 - val_loss: 0.4512 - val_accuracy: 0.8748\n",
      "Epoch 39/50\n",
      "1562/1562 [==============================] - 55s 35ms/step - loss: 0.1669 - accuracy: 0.9437 - val_loss: 0.4687 - val_accuracy: 0.8826\n",
      "Epoch 40/50\n",
      "1562/1562 [==============================] - 54s 35ms/step - loss: 0.1711 - accuracy: 0.9419 - val_loss: 0.4521 - val_accuracy: 0.8773\n",
      "Epoch 41/50\n",
      "1562/1562 [==============================] - 54s 34ms/step - loss: 0.1705 - accuracy: 0.9433 - val_loss: 0.4348 - val_accuracy: 0.8827\n",
      "Epoch 42/50\n",
      "1562/1562 [==============================] - 54s 35ms/step - loss: 0.1661 - accuracy: 0.9434 - val_loss: 0.4231 - val_accuracy: 0.8795\n",
      "Epoch 43/50\n",
      "1562/1562 [==============================] - 55s 35ms/step - loss: 0.1629 - accuracy: 0.9455 - val_loss: 0.4662 - val_accuracy: 0.8792\n",
      "Epoch 44/50\n",
      "1562/1562 [==============================] - 54s 35ms/step - loss: 0.1621 - accuracy: 0.9456 - val_loss: 0.4287 - val_accuracy: 0.8776\n",
      "Epoch 45/50\n",
      "1562/1562 [==============================] - 54s 35ms/step - loss: 0.1587 - accuracy: 0.9458 - val_loss: 0.4534 - val_accuracy: 0.8823\n",
      "Epoch 46/50\n",
      "1562/1562 [==============================] - 54s 34ms/step - loss: 0.1572 - accuracy: 0.9461 - val_loss: 0.4363 - val_accuracy: 0.8750\n",
      "Epoch 47/50\n",
      "1562/1562 [==============================] - 54s 35ms/step - loss: 0.1561 - accuracy: 0.9476 - val_loss: 0.4678 - val_accuracy: 0.8802\n",
      "Epoch 48/50\n",
      "1562/1562 [==============================] - 54s 34ms/step - loss: 0.1548 - accuracy: 0.9475 - val_loss: 0.4181 - val_accuracy: 0.8790\n",
      "Epoch 49/50\n",
      "1562/1562 [==============================] - 55s 35ms/step - loss: 0.1507 - accuracy: 0.9484 - val_loss: 0.4563 - val_accuracy: 0.8786\n",
      "Epoch 50/50\n",
      "1562/1562 [==============================] - 54s 34ms/step - loss: 0.1511 - accuracy: 0.9503 - val_loss: 0.4335 - val_accuracy: 0.8795\n"
     ]
    }
   ],
   "source": [
    "batch_size = 32\n",
    "data_generator = tf.keras.preprocessing.image.ImageDataGenerator(width_shift_range=0.1, height_shift_range=0.1, horizontal_flip=True)\n",
    "train_generator = data_generator.flow(x_train, y_train, batch_size)\n",
    "steps_per_epoch = x_train.shape[0] // batch_size\n",
    "r = model.fit_generator(train_generator, validation_data=(x_test, y_test), steps_per_epoch=steps_per_epoch, epochs=50)"
   ]
  },
  {
   "cell_type": "code",
   "execution_count": 25,
   "metadata": {},
   "outputs": [
    {
     "data": {
      "text/plain": [
       "<matplotlib.legend.Legend at 0x214574eb608>"
      ]
     },
     "execution_count": 25,
     "metadata": {},
     "output_type": "execute_result"
    },
    {
     "data": {
      "image/png": "[encoded data removed]",
      "text/plain": [
       "<Figure size 432x288 with 1 Axes>"
      ]
     },
     "metadata": {
      "needs_background": "light"
     },
     "output_type": "display_data"
    }
   ],
   "source": [
    "plt.plot(r.history['loss'], label='loss')\n",
    "plt.plot(r.history['val_loss'], label='val_loss')\n",
    "plt.legend()"
   ]
  },
  {
   "cell_type": "code",
   "execution_count": 26,
   "metadata": {},
   "outputs": [
    {
     "data": {
      "text/plain": [
       "<matplotlib.legend.Legend at 0x2140ddd0fc8>"
      ]
     },
     "execution_count": 26,
     "metadata": {},
     "output_type": "execute_result"
    },
    {
     "data": {
      "image/png": "[encoded data removed]",
      "text/plain": [
       "<Figure size 432x288 with 1 Axes>"
      ]
     },
     "metadata": {
      "needs_background": "light"
     },
     "output_type": "display_data"
    }
   ],
   "source": [
    "plt.plot(r.history['accuracy'], label='accuracy')\n",
    "plt.plot(r.history['val_accuracy'], label='val_accuracy')\n",
    "plt.legend()"
   ]
  },
  {
   "cell_type": "code",
   "execution_count": null,
   "metadata": {},
   "outputs": [],
   "source": []
  }
 ],
 "metadata": {
  "kernelspec": {
   "display_name": "Python 3",
   "language": "python",
   "name": "python3"
  },
  "language_info": {
   "codemirror_mode": {
    "name": "ipython",
    "version": 3
   },
   "file_extension": ".py",
   "mimetype": "text/x-python",
   "name": "python",
   "nbconvert_exporter": "python",
   "pygments_lexer": "ipython3",
   "version": "3.7.6"
  }
 },
 "nbformat": 4,
 "nbformat_minor": 4
}
